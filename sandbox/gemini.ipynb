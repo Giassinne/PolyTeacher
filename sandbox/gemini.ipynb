{
 "cells": [
  {
   "cell_type": "code",
   "id": "initial_id",
   "metadata": {
    "collapsed": true,
    "ExecuteTime": {
     "end_time": "2024-11-16T00:00:01.581986Z",
     "start_time": "2024-11-16T00:00:01.045973Z"
    }
   },
   "source": "import pandas as pd   ",
   "outputs": [],
   "execution_count": 1
  },
  {
   "metadata": {
    "ExecuteTime": {
     "end_time": "2024-11-16T00:00:01.592568Z",
     "start_time": "2024-11-16T00:00:01.581986Z"
    }
   },
   "cell_type": "code",
   "source": [
    "data = {\n",
    "    'Français': [\"Bonjour\", \"Merci\", \"Comment tu t'appelles ?\", \"Où sont les toilettes ?\", \"Que fais tu dans la vie ?\"],\n",
    "    'Spanish': [None, None, None, None, None],\n",
    "    'English': [None, None, None, None, None],\n",
    "    'Italian': [None, None, None, None, None]\n",
    "}"
   ],
   "id": "1806666087010d8e",
   "outputs": [],
   "execution_count": 2
  },
  {
   "metadata": {
    "ExecuteTime": {
     "end_time": "2024-11-16T00:00:04.914658Z",
     "start_time": "2024-11-16T00:00:04.889161Z"
    }
   },
   "cell_type": "code",
   "source": [
    "dataframe=pd.DataFrame(data)\n",
    "dataframe\n"
   ],
   "id": "a45bd2a1b726cff9",
   "outputs": [
    {
     "data": {
      "text/plain": [
       "                    Français Spanish English Italian\n",
       "0                    Bonjour    None    None    None\n",
       "1                      Merci    None    None    None\n",
       "2    Comment tu t'appelles ?    None    None    None\n",
       "3    Où sont les toilettes ?    None    None    None\n",
       "4  Que fais tu dans la vie ?    None    None    None"
      ],
      "text/html": [
       "<div>\n",
       "<style scoped>\n",
       "    .dataframe tbody tr th:only-of-type {\n",
       "        vertical-align: middle;\n",
       "    }\n",
       "\n",
       "    .dataframe tbody tr th {\n",
       "        vertical-align: top;\n",
       "    }\n",
       "\n",
       "    .dataframe thead th {\n",
       "        text-align: right;\n",
       "    }\n",
       "</style>\n",
       "<table border=\"1\" class=\"dataframe\">\n",
       "  <thead>\n",
       "    <tr style=\"text-align: right;\">\n",
       "      <th></th>\n",
       "      <th>Français</th>\n",
       "      <th>Spanish</th>\n",
       "      <th>English</th>\n",
       "      <th>Italian</th>\n",
       "    </tr>\n",
       "  </thead>\n",
       "  <tbody>\n",
       "    <tr>\n",
       "      <th>0</th>\n",
       "      <td>Bonjour</td>\n",
       "      <td>None</td>\n",
       "      <td>None</td>\n",
       "      <td>None</td>\n",
       "    </tr>\n",
       "    <tr>\n",
       "      <th>1</th>\n",
       "      <td>Merci</td>\n",
       "      <td>None</td>\n",
       "      <td>None</td>\n",
       "      <td>None</td>\n",
       "    </tr>\n",
       "    <tr>\n",
       "      <th>2</th>\n",
       "      <td>Comment tu t'appelles ?</td>\n",
       "      <td>None</td>\n",
       "      <td>None</td>\n",
       "      <td>None</td>\n",
       "    </tr>\n",
       "    <tr>\n",
       "      <th>3</th>\n",
       "      <td>Où sont les toilettes ?</td>\n",
       "      <td>None</td>\n",
       "      <td>None</td>\n",
       "      <td>None</td>\n",
       "    </tr>\n",
       "    <tr>\n",
       "      <th>4</th>\n",
       "      <td>Que fais tu dans la vie ?</td>\n",
       "      <td>None</td>\n",
       "      <td>None</td>\n",
       "      <td>None</td>\n",
       "    </tr>\n",
       "  </tbody>\n",
       "</table>\n",
       "</div>"
      ]
     },
     "execution_count": 3,
     "metadata": {},
     "output_type": "execute_result"
    }
   ],
   "execution_count": 3
  },
  {
   "metadata": {
    "ExecuteTime": {
     "end_time": "2024-11-15T23:45:46.628982Z",
     "start_time": "2024-11-15T23:45:46.620032Z"
    }
   },
   "cell_type": "code",
   "source": [
    "import google.generativeai as genai\n",
    "def translator(prompt,target_language):\n",
    "        api_key = \"API_KEY\"\n",
    "        prompt = f\"\"\"Traduis \"{prompt}\"to {target_language}. La réponse ne doit contenir que la traduction\"\"\"\n",
    "        genai.configure(api_key=api_key)\n",
    "        \n",
    "        model = genai.GenerativeModel(\"gemini-1.5-flash\")\n",
    "        response = model.generate_content(prompt)\n",
    "        return response.text.strip()"
   ],
   "id": "315058fa3a63a9a4",
   "outputs": [],
   "execution_count": 7
  },
  {
   "metadata": {
    "jupyter": {
     "is_executing": true
    },
    "ExecuteTime": {
     "start_time": "2024-11-15T23:45:50.470478Z"
    }
   },
   "cell_type": "code",
   "source": [
    "dataframe['Spanish'] = dataframe[\"Français\"].apply(lambda x: translator(x, 'Spanish'))\n",
    "dataframe['English'] = dataframe[\"Français\"].apply(lambda x: translator(x, 'English'))\n",
    "dataframe['Italian'] = dataframe[\"Français\"].apply(lambda x: translator(x, 'Italian'))"
   ],
   "id": "1f13ebb9c6d6e98f",
   "outputs": [],
   "execution_count": null
  },
  {
   "metadata": {
    "ExecuteTime": {
     "end_time": "2024-11-15T22:52:31.413399Z",
     "start_time": "2024-11-15T22:52:31.401867Z"
    }
   },
   "cell_type": "code",
   "source": "dataframe",
   "id": "779447185e1a1cdd",
   "outputs": [
    {
     "data": {
      "text/plain": [
       "                    Français                  Spanish  \\\n",
       "0                    Bonjour                     Hola   \n",
       "1                      Merci                  Gracias   \n",
       "2    Comment tu t'appelles ?         ¿Cómo te llamas?   \n",
       "3    Où sont les toilettes ?  ¿Dónde están los baños?   \n",
       "4  Que fais tu dans la vie ?   ¿Qué haces en la vida?   \n",
       "\n",
       "                        English               Italian  \n",
       "0                         Hello            Buongiorno  \n",
       "1                     Thank you                Grazie  \n",
       "2            What is your name?       Come ti chiami?  \n",
       "3        Where is the restroom?    Dove sono i bagni?  \n",
       "4  What do you do for a living?  Cosa fai nella vita?  "
      ],
      "text/html": [
       "<div>\n",
       "<style scoped>\n",
       "    .dataframe tbody tr th:only-of-type {\n",
       "        vertical-align: middle;\n",
       "    }\n",
       "\n",
       "    .dataframe tbody tr th {\n",
       "        vertical-align: top;\n",
       "    }\n",
       "\n",
       "    .dataframe thead th {\n",
       "        text-align: right;\n",
       "    }\n",
       "</style>\n",
       "<table border=\"1\" class=\"dataframe\">\n",
       "  <thead>\n",
       "    <tr style=\"text-align: right;\">\n",
       "      <th></th>\n",
       "      <th>Français</th>\n",
       "      <th>Spanish</th>\n",
       "      <th>English</th>\n",
       "      <th>Italian</th>\n",
       "    </tr>\n",
       "  </thead>\n",
       "  <tbody>\n",
       "    <tr>\n",
       "      <th>0</th>\n",
       "      <td>Bonjour</td>\n",
       "      <td>Hola</td>\n",
       "      <td>Hello</td>\n",
       "      <td>Buongiorno</td>\n",
       "    </tr>\n",
       "    <tr>\n",
       "      <th>1</th>\n",
       "      <td>Merci</td>\n",
       "      <td>Gracias</td>\n",
       "      <td>Thank you</td>\n",
       "      <td>Grazie</td>\n",
       "    </tr>\n",
       "    <tr>\n",
       "      <th>2</th>\n",
       "      <td>Comment tu t'appelles ?</td>\n",
       "      <td>¿Cómo te llamas?</td>\n",
       "      <td>What is your name?</td>\n",
       "      <td>Come ti chiami?</td>\n",
       "    </tr>\n",
       "    <tr>\n",
       "      <th>3</th>\n",
       "      <td>Où sont les toilettes ?</td>\n",
       "      <td>¿Dónde están los baños?</td>\n",
       "      <td>Where is the restroom?</td>\n",
       "      <td>Dove sono i bagni?</td>\n",
       "    </tr>\n",
       "    <tr>\n",
       "      <th>4</th>\n",
       "      <td>Que fais tu dans la vie ?</td>\n",
       "      <td>¿Qué haces en la vida?</td>\n",
       "      <td>What do you do for a living?</td>\n",
       "      <td>Cosa fai nella vita?</td>\n",
       "    </tr>\n",
       "  </tbody>\n",
       "</table>\n",
       "</div>"
      ]
     },
     "execution_count": 6,
     "metadata": {},
     "output_type": "execute_result"
    }
   ],
   "execution_count": 6
  },
  {
   "metadata": {
    "ExecuteTime": {
     "end_time": "2024-11-15T22:52:31.432273Z",
     "start_time": "2024-11-15T22:52:31.414914Z"
    }
   },
   "cell_type": "code",
   "source": "dataframe.to_csv(\"sandbox/all_translation.csv\", index=False, sep=\";\")",
   "id": "b88980294e2f3fca",
   "outputs": [],
   "execution_count": 7
  }
 ],
 "metadata": {
  "kernelspec": {
   "display_name": "Python 3",
   "language": "python",
   "name": "python3"
  },
  "language_info": {
   "codemirror_mode": {
    "name": "ipython",
    "version": 2
   },
   "file_extension": ".py",
   "mimetype": "text/x-python",
   "name": "python",
   "nbconvert_exporter": "python",
   "pygments_lexer": "ipython2",
   "version": "2.7.6"
  }
 },
 "nbformat": 4,
 "nbformat_minor": 5
}
